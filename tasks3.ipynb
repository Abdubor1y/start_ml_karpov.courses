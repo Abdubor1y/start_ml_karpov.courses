{
 "cells": [
  {
   "cell_type": "code",
   "execution_count": 8,
   "id": "ee868794",
   "metadata": {},
   "outputs": [],
   "source": [
    "import datetime"
   ]
  },
  {
   "cell_type": "code",
   "execution_count": 5,
   "id": "49200f62",
   "metadata": {},
   "outputs": [
    {
     "name": "stdout",
     "output_type": "stream",
     "text": [
      "2022-02-10\n"
     ]
    }
   ],
   "source": [
    "lunch_date = datetime.date(day=10, month=2, year=2022)\n",
    "\n",
    "print(lunch_date)"
   ]
  },
  {
   "cell_type": "code",
   "execution_count": null,
   "id": "ae0e3716",
   "metadata": {},
   "outputs": [
    {
     "name": "stdout",
     "output_type": "stream",
     "text": [
      "2022-03-24\n"
     ]
    }
   ],
   "source": [
    "some_future = lunch_date + datetime.timedelta(days=42)\n",
    "\n",
    "print(some_future)"
   ]
  },
  {
   "cell_type": "code",
   "execution_count": 7,
   "id": "e26dda2f",
   "metadata": {},
   "outputs": [
    {
     "name": "stdout",
     "output_type": "stream",
     "text": [
      "2022-03-11 05:06:00\n"
     ]
    }
   ],
   "source": [
    "from datetime import datetime, timedelta\n",
    "\n",
    "times = datetime(month=3, day=8, year=2022) + timedelta(days=3, hours=5, minutes=6)\n",
    "\n",
    "print(times)"
   ]
  }
 ],
 "metadata": {
  "kernelspec": {
   "display_name": "base",
   "language": "python",
   "name": "python3"
  },
  "language_info": {
   "codemirror_mode": {
    "name": "ipython",
    "version": 3
   },
   "file_extension": ".py",
   "mimetype": "text/x-python",
   "name": "python",
   "nbconvert_exporter": "python",
   "pygments_lexer": "ipython3",
   "version": "3.12.2"
  }
 },
 "nbformat": 4,
 "nbformat_minor": 5
}
