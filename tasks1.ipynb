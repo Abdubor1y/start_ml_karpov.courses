{
 "cells": [
  {
   "cell_type": "markdown",
   "id": "bbf3d556",
   "metadata": {},
   "source": [
    "## 1"
   ]
  },
  {
   "cell_type": "code",
   "execution_count": 2,
   "id": "3390bbcf",
   "metadata": {},
   "outputs": [],
   "source": [
    "i = 3"
   ]
  },
  {
   "cell_type": "markdown",
   "id": "90bc5175",
   "metadata": {},
   "source": [
    "## 2"
   ]
  },
  {
   "cell_type": "code",
   "execution_count": null,
   "id": "63aabdfc",
   "metadata": {},
   "outputs": [
    {
     "name": "stdout",
     "output_type": "stream",
     "text": [
      "Bob 24 True\n"
     ]
    }
   ],
   "source": [
    "name = \"Bob\"\n",
    "age = 24\n",
    "is_student = True\n",
    "\n",
    "print(name, age, is_student)\n",
    "\n",
    "#Solved: 23.08.2025"
   ]
  },
  {
   "cell_type": "markdown",
   "id": "8dcea3fe",
   "metadata": {},
   "source": [
    "## 3"
   ]
  },
  {
   "cell_type": "code",
   "execution_count": null,
   "id": "c3b76534",
   "metadata": {},
   "outputs": [],
   "source": [
    "jar_count = total_money // price\n",
    "\n",
    "print(jar_count)"
   ]
  },
  {
   "cell_type": "markdown",
   "id": "8d136eec",
   "metadata": {},
   "source": [
    "## 4"
   ]
  },
  {
   "cell_type": "code",
   "execution_count": 2,
   "id": "6e0d254a",
   "metadata": {},
   "outputs": [
    {
     "name": "stdout",
     "output_type": "stream",
     "text": [
      "1.0\n",
      "-3.3333333333333335\n"
     ]
    }
   ],
   "source": [
    "a = 3\n",
    "b = 7\n",
    "c = -10\n",
    "\n",
    "D = b ** 2 - 4 * a * c\n",
    "\n",
    "x_1 = (-b + D ** 0.5) / (2 * a)\n",
    "x_2 = (-b - D ** 0.5) / (2 * a)\n",
    "\n",
    "print(x_1)\n",
    "print(x_2)\n"
   ]
  },
  {
   "cell_type": "markdown",
   "id": "980a3280",
   "metadata": {},
   "source": [
    "## 5\n",
    "\n",
    "Answer: list"
   ]
  },
  {
   "cell_type": "markdown",
   "id": "d8f1af5b",
   "metadata": {},
   "source": [
    "## 6\n",
    "\n",
    "Answer: str (string)"
   ]
  },
  {
   "cell_type": "markdown",
   "id": "84ea0005",
   "metadata": {},
   "source": [
    "## 7"
   ]
  },
  {
   "cell_type": "code",
   "execution_count": null,
   "id": "73ff7e4c",
   "metadata": {},
   "outputs": [],
   "source": [
    "tasks_all = tasks_my + tasks_friend\n",
    "\n",
    "print(tasks_all)"
   ]
  },
  {
   "cell_type": "markdown",
   "id": "a5c3bd1c",
   "metadata": {},
   "source": [
    "## 8\n",
    "\n",
    "Answer: dict"
   ]
  },
  {
   "cell_type": "markdown",
   "id": "4270023b",
   "metadata": {},
   "source": [
    "## 9"
   ]
  },
  {
   "cell_type": "code",
   "execution_count": 12,
   "id": "57e1ce85",
   "metadata": {},
   "outputs": [
    {
     "name": "stdout",
     "output_type": "stream",
     "text": [
      "{0: ['Покормить кота'], 1: ['Полить цветы', 'Забрать посылку'], 2: ['Почитать книгу по программированию'], 3: ['Ответить на письмо двоюродной тети']}\n"
     ]
    }
   ],
   "source": [
    "tasks = {\n",
    "    0: [\"Покормить кота\"],\n",
    "    1: [\"Полить цветы\", \"Забрать посылку\"],\n",
    "    2: [\"Почитать книгу по программированию\"],\n",
    "    3: [\"Ответить на письмо двоюродной тети\"]\n",
    "}\n",
    "\n",
    "print(tasks)"
   ]
  },
  {
   "cell_type": "markdown",
   "id": "275726ee",
   "metadata": {},
   "source": [
    "## 10"
   ]
  },
  {
   "cell_type": "code",
   "execution_count": null,
   "id": "3993debf",
   "metadata": {},
   "outputs": [],
   "source": [
    "if 0 in tasks:\n",
    "    print(\"есть срочные дела\")\n",
    "else:\n",
    "    print(\"можно отдохнуть\")"
   ]
  },
  {
   "cell_type": "markdown",
   "id": "fad7d617",
   "metadata": {},
   "source": [
    "## 11"
   ]
  },
  {
   "cell_type": "code",
   "execution_count": null,
   "id": "0130675a",
   "metadata": {},
   "outputs": [],
   "source": [
    "values = []\n",
    "\n",
    "for key in tasks:\n",
    "    values.append(tasks[key])"
   ]
  },
  {
   "cell_type": "markdown",
   "id": "85d66661",
   "metadata": {},
   "source": [
    "## 12"
   ]
  },
  {
   "cell_type": "code",
   "execution_count": null,
   "id": "5f9a9173",
   "metadata": {},
   "outputs": [],
   "source": [
    "answer = []\n",
    "\n",
    "for key, values in tasks.items():\n",
    "    for task in values:\n",
    "        if \"кот\" in task:\n",
    "            answer.append(task)"
   ]
  },
  {
   "cell_type": "markdown",
   "id": "093923fa",
   "metadata": {},
   "source": [
    "## 13"
   ]
  },
  {
   "cell_type": "code",
   "execution_count": null,
   "id": "36fe9db6",
   "metadata": {},
   "outputs": [],
   "source": [
    "answer = []\n",
    "\n",
    "for priority, tasks_list in tasks.items():\n",
    "    if priority < 2:\n",
    "        for task in tasks_list:\n",
    "            if \"кот\" in task:\n",
    "                answer.append(task)\n",
    "                if len(answer) == 2:\n",
    "                    break\n",
    "    if len(answer) == 2:\n",
    "        break"
   ]
  },
  {
   "cell_type": "markdown",
   "id": "6adff4db",
   "metadata": {},
   "source": [
    "## 14"
   ]
  },
  {
   "cell_type": "code",
   "execution_count": 10,
   "id": "9da10051",
   "metadata": {},
   "outputs": [
    {
     "name": "stdout",
     "output_type": "stream",
     "text": [
      "{0: ['Покормить кота'], 1: ['Забрать посылку', 'Покормить кота']}\n"
     ]
    }
   ],
   "source": [
    "tasks = {\n",
    "    0: [\"Покормить кота\", \"Покормить кота\"],\n",
    "    1: [\"Покормить кота\", \"Забрать посылку\"]\n",
    "}\n",
    "\n",
    "new_tasks = {key: list(set(value)) for key, value in tasks.items()}\n",
    "\n",
    "print(new_tasks)\n"
   ]
  }
 ],
 "metadata": {
  "kernelspec": {
   "display_name": "base",
   "language": "python",
   "name": "python3"
  },
  "language_info": {
   "codemirror_mode": {
    "name": "ipython",
    "version": 3
   },
   "file_extension": ".py",
   "mimetype": "text/x-python",
   "name": "python",
   "nbconvert_exporter": "python",
   "pygments_lexer": "ipython3",
   "version": "3.12.2"
  }
 },
 "nbformat": 4,
 "nbformat_minor": 5
}
