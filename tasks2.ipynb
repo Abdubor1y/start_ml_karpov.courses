{
 "cells": [
  {
   "cell_type": "markdown",
   "id": "b5804ada",
   "metadata": {},
   "source": [
    "## 1. Functions"
   ]
  },
  {
   "cell_type": "code",
   "execution_count": null,
   "id": "bea8d85b",
   "metadata": {},
   "outputs": [
    {
     "data": {
      "text/plain": [
       "12.56"
      ]
     },
     "execution_count": 14,
     "metadata": {},
     "output_type": "execute_result"
    }
   ],
   "source": [
    "def circle_square(radius):\n",
    "    pi = 3.14\n",
    "    return pi * radius ** 2\n",
    "\n",
    "\n",
    "print(circle_square(2))"
   ]
  },
  {
   "cell_type": "code",
   "execution_count": null,
   "id": "5de27234",
   "metadata": {},
   "outputs": [
    {
     "name": "stdout",
     "output_type": "stream",
     "text": [
      "[(1, 2), (5, 7), (3, 9)]\n"
     ]
    }
   ],
   "source": [
    "def zip_(a, b):\n",
    "    result = []\n",
    "    for i in range(min(len(a), len(b))):\n",
    "        pair = (a[i], b[i])\n",
    "        result.append(pair)\n",
    "    return result\n",
    "\n",
    "print(zip_([1, 5, 3, 8, 35], [2, 7, 9]))"
   ]
  },
  {
   "cell_type": "code",
   "execution_count": null,
   "id": "925e7500",
   "metadata": {},
   "outputs": [],
   "source": [
    "def zip_(a, b):\n",
    "    return list(zip(a, b))"
   ]
  },
  {
   "cell_type": "code",
   "execution_count": 32,
   "id": "e9ffef2e",
   "metadata": {},
   "outputs": [
    {
     "name": "stdout",
     "output_type": "stream",
     "text": [
      "1050.0\n",
      "749.0\n"
     ]
    }
   ],
   "source": [
    "def final_balance(init_sum, interest_rate, years, round_num=2):\n",
    "    final = init_sum * (1 + interest_rate / 100) ** years\n",
    "    return round(final, round_num)\n",
    "\n",
    "print(final_balance(1000, 5, 1))\n",
    "print(final_balance(700, 7, 1)) \n"
   ]
  },
  {
   "cell_type": "code",
   "execution_count": 42,
   "id": "f105486c",
   "metadata": {},
   "outputs": [
    {
     "name": "stdout",
     "output_type": "stream",
     "text": [
      "###\n",
      "[1, 64, 125, 729]\n",
      "###\n",
      "###\n",
      "[1, 1, 6, 1]\n",
      "###\n",
      "###\n",
      "[2, 5, 11, 10]\n",
      "###\n",
      "[2, 5, 11, 10]\n"
     ]
    }
   ],
   "source": [
    "def math_task(data):\n",
    "    answer = []\n",
    "\n",
    "    # возводим в третью степень\n",
    "    for elem in data:\n",
    "        answer += [elem ** 3]\n",
    "    print(\"###\")\n",
    "    print(answer)\n",
    "    print(\"###\")\n",
    "\n",
    "    # берем остаток от деления на 7\n",
    "    for i in range(len(answer)):\n",
    "        answer[i] = answer[i] % 7\n",
    "    print(\"###\")\n",
    "    print(answer)\n",
    "    print(\"###\")\n",
    "\n",
    "    # прибавляем к остатку изначальный массив\n",
    "    for i in range(len(answer)):\n",
    "        answer[i] = answer[i] + data[i]\n",
    "    print(\"###\")\n",
    "    print(answer)\n",
    "    print(\"###\")\n",
    "\n",
    "    # возвращаем результат\n",
    "    return answer\n",
    "\n",
    "\n",
    "test_data = [1, 4, 5, 9]\n",
    "print(math_task(test_data))\n",
    "\n",
    "# print(math_task([1, 4, 5, 9]))"
   ]
  },
  {
   "cell_type": "code",
   "execution_count": 43,
   "id": "450a8b02",
   "metadata": {},
   "outputs": [
    {
     "name": "stdout",
     "output_type": "stream",
     "text": [
      "###\n",
      "[1, 64, 125, 729]\n",
      "###\n",
      "###\n",
      "[1, 1, 6, 1]\n",
      "###\n",
      "###\n",
      "[2, 5, 11, 10]\n",
      "###\n",
      "[2, 5, 11, 10]\n"
     ]
    }
   ],
   "source": [
    "def print_array(answer):\n",
    "    print(\"###\")\n",
    "    print(answer)\n",
    "    print(\"###\")\n",
    "\n",
    "def math_task(data):\n",
    "    answer = []\n",
    "\n",
    "    for elem in data:\n",
    "        answer += [elem ** 3]\n",
    "    print_array(answer)\n",
    "\n",
    "    for i in range(len(answer)):\n",
    "        answer[i] = answer[i] % 7\n",
    "    print_array(answer)\n",
    "\n",
    "    for i in range(len(answer)):\n",
    "        answer[i] = answer[i] + data[i]\n",
    "    print_array(answer)\n",
    "\n",
    "    return answer\n",
    "\n",
    "\n",
    "test_data = [1, 4, 5, 9]\n",
    "print(math_task(test_data))"
   ]
  },
  {
   "cell_type": "markdown",
   "id": "47825aaa",
   "metadata": {},
   "source": [
    "## 2. Errors and Exceptions"
   ]
  },
  {
   "cell_type": "code",
   "execution_count": null,
   "id": "cc14d76e",
   "metadata": {},
   "outputs": [
    {
     "name": "stdout",
     "output_type": "stream",
     "text": [
      "0\n",
      "8\n",
      "4\n"
     ]
    }
   ],
   "source": [
    "def sum_as_ints(data):\n",
    "    total = 0\n",
    "    for element in data:\n",
    "        try:\n",
    "            total += int(element)\n",
    "        except ValueError:\n",
    "            continue\n",
    "    return total\n",
    "\n",
    "print(sum_as_ints(\"hello\"))\n",
    "print(sum_as_ints(\"3.14\"))\n",
    "print(sum_as_ints(\"2,2\"))"
   ]
  },
  {
   "cell_type": "code",
   "execution_count": 57,
   "id": "f1c03088",
   "metadata": {},
   "outputs": [],
   "source": [
    "# Было\n",
    "def print_first(data):\n",
    "    try:\n",
    "        print(data[0])\n",
    "    except IndexError:\n",
    "        print(\"Список пуст\")\n",
    "\n",
    "\n",
    "# Стало\n",
    "def print_first(data):\n",
    "    if len(data) == 0:\n",
    "        print(\"Список пуст\")\n",
    "        return\n",
    "    print(data[0])\n"
   ]
  },
  {
   "cell_type": "markdown",
   "id": "bbf9a296",
   "metadata": {},
   "source": [
    "## 3. Reference data model"
   ]
  },
  {
   "cell_type": "code",
   "execution_count": null,
   "id": "712ae38c",
   "metadata": {},
   "outputs": [],
   "source": [
    "def reversed_(array):\n",
    "    rv = []\n",
    "    while array:\n",
    "        rv.append(array.pop())\n",
    "    return rv\n",
    "\n",
    "arr = [1, 2, 3]\n",
    "if reversed_(reversed_(arr)) == arr:\n",
    "    print(\"Все хорошо\")\n",
    "else:\n",
    "    raise RuntimeError(\"Ошибка, после обращения дважды не получается исходный массив!\")"
   ]
  },
  {
   "cell_type": "markdown",
   "id": "259e1c4a",
   "metadata": {},
   "source": [
    "## 4. Slices and strings"
   ]
  },
  {
   "cell_type": "code",
   "execution_count": null,
   "id": "5f89de5c",
   "metadata": {},
   "outputs": [
    {
     "name": "stdout",
     "output_type": "stream",
     "text": [
      "(6, 8)\n",
      "(0, 2)\n"
     ]
    }
   ],
   "source": [
    "def find(sub, s):\n",
    "    for i in range(len(s) - len(sub) + 1):\n",
    "        if s[i:i+len(sub)] == sub:\n",
    "            return i\n",
    "    return -1\n",
    "\n",
    "\n",
    "def find_substr(sub, s):\n",
    "    start = find(sub, s)\n",
    "    stop = start + len(sub)\n",
    "    return (start, stop)\n",
    "\n",
    "print(find_substr(\"мы\", \"Летом мы хотим отдыхать на море\"))\n",
    "print(find_substr(\"ма\", \"маленькая машина\"))"
   ]
  },
  {
   "cell_type": "code",
   "execution_count": 65,
   "id": "1f117f9f",
   "metadata": {},
   "outputs": [
    {
     "name": "stdout",
     "output_type": "stream",
     "text": [
      "['<', 'K', '/', 'C', '>']\n"
     ]
    }
   ],
   "source": [
    "def fifth_element(some_list: list) -> list:\n",
    "    return some_list[-5::-5]\n",
    "\n",
    "print(fifth_element(['e',6,8,'A','>','^','S','$','R','C',6,'+','#',9,'/',1,'T','!','%','K',7,'-','O','*','<',2,'h',4,'g']))"
   ]
  },
  {
   "cell_type": "code",
   "execution_count": null,
   "id": "35ceec95",
   "metadata": {},
   "outputs": [
    {
     "data": {
      "text/plain": [
       "'junior reads a lot of books'"
      ]
     },
     "execution_count": 68,
     "metadata": {},
     "output_type": "execute_result"
    }
   ],
   "source": [
    "def process_string(string: str) -> str:\n",
    "    result = string[1:].lower().replace(\"intern\", \"junior\")\n",
    "    return result\n",
    "\n",
    "process_string('IIntern reads a lot of books')"
   ]
  },
  {
   "cell_type": "code",
   "execution_count": 81,
   "id": "c910f172",
   "metadata": {},
   "outputs": [
    {
     "name": "stdout",
     "output_type": "stream",
     "text": [
      "True\n",
      "False\n",
      "False\n",
      "False\n"
     ]
    }
   ],
   "source": [
    "def check_string(string: str) -> bool:\n",
    "    if string != string.strip():\n",
    "        return False\n",
    "    \n",
    "    if not string.endswith('.'):\n",
    "        return False\n",
    "    \n",
    "    text = string[:-1]\n",
    "    words = text.split()\n",
    "    if not words:\n",
    "        return False\n",
    "    \n",
    "    if not words[0][0].isupper():\n",
    "        return False\n",
    "    for word in words[1:]:\n",
    "        if not word[0].islower():\n",
    "            return False\n",
    "    \n",
    "    return True\n",
    "\n",
    "\n",
    "print(check_string('В этом году будет особенно теплое море.'))\n",
    "print(check_string('В этом году будет особенно теплое Mоре.'))\n",
    "print(check_string('В этом году будет особенно теплое море'))\n",
    "print(check_string(' В этом году будет особенно теплое море'))\n"
   ]
  }
 ],
 "metadata": {
  "kernelspec": {
   "display_name": "base",
   "language": "python",
   "name": "python3"
  },
  "language_info": {
   "codemirror_mode": {
    "name": "ipython",
    "version": 3
   },
   "file_extension": ".py",
   "mimetype": "text/x-python",
   "name": "python",
   "nbconvert_exporter": "python",
   "pygments_lexer": "ipython3",
   "version": "3.12.2"
  }
 },
 "nbformat": 4,
 "nbformat_minor": 5
}
